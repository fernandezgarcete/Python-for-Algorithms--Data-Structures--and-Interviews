{
 "cells": [
  {
   "cell_type": "markdown",
   "metadata": {},
   "source": [
    "# Binary Search Tree Check\n",
    "## Problem Statement\n",
    "Given a binary tree, check whether it's a binary search tree or not.\n",
    "\n",
    "**Again, no solution cell, just worry about your code making sense logically. Hint: Think about tree traversal.**\n",
    "# Solution\n",
    "Here is a simple solution - If a tree is a binary search tree, then traversing the tree inorder should lead to sorted order of the values in the tree. So, we can perform an inorder traversal and check whether the node values are sorted or not.\n"
   ]
  },
  {
   "cell_type": "code",
   "execution_count": 7,
   "metadata": {},
   "outputs": [],
   "source": [
    "class TreeNode:\n",
    "\n",
    "    def __init__(self, key, val, left=None, right=None, parent=None):\n",
    "        self.key = key\n",
    "        self.payload = val\n",
    "        self.left_child = left\n",
    "        self.right_child = right\n",
    "        self.parent = parent\n",
    "\n",
    "    def get_left_child(self):\n",
    "        return self.left_child\n",
    "\n",
    "    def get_right_child(self):\n",
    "        return self.right_child\n",
    "\n",
    "    def is_left_child(self):\n",
    "        return self.parent and self.parent.left_child == self\n",
    "\n",
    "    def is_right_child(self):\n",
    "        return self.parent and self.parent.right_child == self\n",
    "\n",
    "    def is_root(self):\n",
    "        return not self.parent\n",
    "\n",
    "    def get_root_val(self):\n",
    "        return self.parent\n",
    "\n",
    "    def is_leaf(self):\n",
    "        return not (self.right_child and self.left_child)\n",
    "    \n",
    "    def has_any_children(self):\n",
    "        return self.right_child or self. left_child\n",
    "\n",
    "    def has_both_children(self):\n",
    "        return self.right_child and self.left_child\n",
    "\n",
    "    def replace_node_data(self, key, value, lc, rc):\n",
    "        self.key = key\n",
    "        self.payload = value\n",
    "        self.left_child = lc\n",
    "        self.right_child = rc\n",
    "        if self.has_left_child():\n",
    "            self.left_child.parent = self\n",
    "        if self.has_right_child():\n",
    "            self.right_child.parent = self"
   ]
  },
  {
   "cell_type": "code",
   "execution_count": 9,
   "metadata": {},
   "outputs": [
    {
     "output_type": "execute_result",
     "data": {
      "text/plain": "True"
     },
     "metadata": {},
     "execution_count": 9
    }
   ],
   "source": [
    "# SOLUTION\n",
    "\n",
    "tree_vals = []\n",
    "tree = TreeNode(2, 4)\n",
    "\n",
    "def inorder(tree):\n",
    "    if tree != None:\n",
    "        inorder(tree.get_left_child())\n",
    "        tree_vals.append(tree.get_root_val())\n",
    "        inorder(tree.get_right_child())\n",
    "\n",
    "def sort_check(tree_vals):\n",
    "    return tree_vals == sorted(tree_vals)\n",
    "\n",
    "inorder(tree)\n",
    "sort_check(tree_vals)"
   ]
  },
  {
   "cell_type": "markdown",
   "metadata": {},
   "source": [
    "Another classic solution is to keep track of the minimum and maximum values a node can take. And at each node we will check whether its value is between the min and max values it's allowed to take. The root can take any value between negative infinity and positive infinity. At any node, its left child should be smaller than or equal than its own value, and similarly the right child should be larger than or equal to its own value. So during recursion, we send the current value as the new max to our left child and send the min as it is without changing. And to the right child, we send the current value as the new min and send the max without changing."
   ]
  },
  {
   "cell_type": "code",
   "execution_count": 17,
   "metadata": {
    "tags": []
   },
   "outputs": [
    {
     "output_type": "stream",
     "name": "stdout",
     "text": "True\nFalse\n"
    }
   ],
   "source": [
    "class Node:\n",
    "    def __init__(self, k, val):\n",
    "        self.key = k\n",
    "        self.value = val\n",
    "        self.left = None\n",
    "        self.right = None\n",
    "\n",
    "def tree_max(node):\n",
    "    if not node:\n",
    "        return float(\"-inf\")\n",
    "    max_left = tree_max(node.left)\n",
    "    max_right = tree_max(node.right)\n",
    "    return max(node.key, max_left, max_right)\n",
    "\n",
    "def tree_min(node):\n",
    "    if not node:\n",
    "        return float(\"inf\")\n",
    "    min_left = tree_min(node.left)\n",
    "    min_right = tree_min(node.right)\n",
    "    return min(node.key, min_left, min_right)\n",
    "\n",
    "def verify(node):\n",
    "    if not node:\n",
    "        return True\n",
    "    if (tree_max(node.left) <= node.key <= tree_min(node.right) and\\\n",
    "     verify(node.left) and verify(node.right)):\n",
    "        return True\n",
    "    else:\n",
    "        return False\n",
    "\n",
    "root = Node(10, 'Hello')\n",
    "root.left = Node(5, 'Five')\n",
    "root.right = Node(30, 'Thirty')\n",
    "\n",
    "print(verify(root))  # prints True since this tree is valid\n",
    "\n",
    "root = Node(10, 'Ten')\n",
    "root.left = Node(5, 'Five')\n",
    "root.right = Node(20, 'Twenty')\n",
    "root.left.right = Node(15, 'Fifteen')\n",
    "\n",
    "print(verify(root))  # prints False, since 15 is to the left of 10"
   ]
  },
  {
   "cell_type": "code",
   "execution_count": null,
   "metadata": {},
   "outputs": [],
   "source": []
  }
 ],
 "metadata": {
  "language_info": {
   "codemirror_mode": {
    "name": "ipython",
    "version": 3
   },
   "file_extension": ".py",
   "mimetype": "text/x-python",
   "name": "python",
   "nbconvert_exporter": "python",
   "pygments_lexer": "ipython3",
   "version": "3.7.6-final"
  },
  "orig_nbformat": 2,
  "kernelspec": {
   "name": "python3",
   "display_name": "Python 3"
  }
 },
 "nbformat": 4,
 "nbformat_minor": 2
}