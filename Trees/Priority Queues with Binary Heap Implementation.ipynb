{
 "cells": [
  {
   "cell_type": "markdown",
   "metadata": {},
   "source": [
    "# Binary Heap Operations\n",
    "## The basic operation we will implement for our binary heap ara as follows:\n",
    "- BinaryHeap() creates a new, empty, binary heap.\n",
    "\n",
    "- insert(k) adds a new item to the heap.\n",
    "\n",
    "- findMin() returns the item with the minimun key value, leaving item in the heap.\n",
    "\n",
    "- delMin() returns the item with the minimun key value, removing the item from the heap.\n",
    "\n",
    "- isEmpty() returns true if the heap is empty, false otherwise.\n",
    "\n",
    "- size() returns the number of items in the heap.\n",
    "\n",
    "- buildHeap(list) builds a new heap from a list of keys.\n"
   ]
  },
  {
   "cell_type": "markdown",
   "metadata": {},
   "source": [
    "# Binary Heap\n",
    "- The next method we will implement is insert. The easiest, and most efficient, way to add an item to a list is to simply append the item to the end of the list.\n",
    "\n",
    "- The good news about appending is that it guarantees that we will maintain the complete tree property.\n",
    "\n",
    "- The bad news about appending is that we will very likely violate the heap structure property.\n",
    "\n",
    "- However, it is possible to write a method that will allow us to regain the heap structure property by comparing the newly added item with its parent.\n",
    "\n",
    "- If the new added item is less than its parent, then we can swap the item with its parent.\n",
    "\n",
    "- Let's see the series of swaps needed to percolate the newly added item up to its proper position in the tree."
   ]
  },
  {
   "cell_type": "code",
   "execution_count": 1,
   "metadata": {},
   "outputs": [],
   "source": [
    "class BinaryHeap(object):\n",
    "\n",
    "    def __init__(self):\n",
    "        self.heap_list = [0]\n",
    "        self.current_size = 0\n",
    "    \n",
    "    def percolate_up(self, i):\n",
    "        while i // 2 > 0:\n",
    "            if self.heap_list[i] < self.heap_list[i // 2]:\n",
    "                tmp = self.heap_list[i // 2]\n",
    "                self.heap_list[i // 2] = self.heap_list[i]\n",
    "                self.heap_list[i] = tmp\n",
    "            i = i // 2\n",
    "\n",
    "    def insert(self, k):\n",
    "        self.heap_list.append(k)\n",
    "        self.current_size += 1\n",
    "        self.percolate_up(self.current_size)\n",
    "\n",
    "    def percolate_down(self, i):\n",
    "        while (i * 2) <= self.current_size:\n",
    "            mc = self.min_child(i)\n",
    "            if self.heap_list[i] > self.heap_list[mc]:\n",
    "                tmp = self.heap_list[i]\n",
    "                self.heap_list[i] = self.heap_list[mc]\n",
    "                self.heap_list[mc] = tmp\n",
    "            i = mc\n",
    "\n",
    "    def min_child(self, i):\n",
    "        if i * 2 + 1 > self.current_size:\n",
    "            return i * 2\n",
    "        else:\n",
    "            if self.heap_list[i * 2] < self.heap_list[i * 2 + 1]:\n",
    "                return i * 2\n",
    "            else:\n",
    "                return i * 2 + 1\n",
    "\n",
    "    def del_min(self):\n",
    "        retval = self.heap_list[1]\n",
    "        self.heap_list[1] = self.heap_list[self.current_size]\n",
    "        self.current_size = self.current_size - 1\n",
    "        self.heap_list.pop()\n",
    "        self.percolate_down(1)\n",
    "        return retval\n",
    "\n",
    "    def build_heap(self, alist):\n",
    "        i = len(alist) // 2\n",
    "        self.current_size = len(alist)\n",
    "        self.heap_list = [0] + alist[:]\n",
    "        while (i > 0):\n",
    "            self.percolate_down(i)\n",
    "            i = i - 1\n",
    " "
   ]
  },
  {
   "cell_type": "code",
   "execution_count": null,
   "metadata": {},
   "outputs": [],
   "source": []
  }
 ],
 "metadata": {
  "language_info": {
   "codemirror_mode": {
    "name": "ipython",
    "version": 3
   },
   "file_extension": ".py",
   "mimetype": "text/x-python",
   "name": "python",
   "nbconvert_exporter": "python",
   "pygments_lexer": "ipython3",
   "version": "3.7.6-final"
  },
  "orig_nbformat": 2,
  "kernelspec": {
   "name": "python3",
   "display_name": "Python 3"
  }
 },
 "nbformat": 4,
 "nbformat_minor": 2
}