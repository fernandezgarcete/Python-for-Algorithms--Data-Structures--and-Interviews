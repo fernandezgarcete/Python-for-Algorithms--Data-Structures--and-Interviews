{
 "cells": [
  {
   "cell_type": "markdown",
   "metadata": {},
   "source": [
    "# Priority Queues with Binary Heaps\n",
    "- One important variation of a queues is called a priority queue.\n",
    "\n",
    "- A priority queue acts like a queue in that you dequeue an item by removing it from the front.\n",
    "- However, in a priority queue the logical order of items inside a queue is determined by their priority.\n",
    "\n",
    "- The highest priority items are at the front of the queue and the lowest priority items are at the back.\n",
    "- When you enqueue an item on a priority queue, the new item may move all the way to the front.\n",
    "\n",
    "- The classic way to implement a priority queue is using a data structure called binary heap.\n",
    "- A binary heap will allow us both enqueue and dequeue items in O(log n).\n",
    "\n",
    "- The binary heap has two common variations: the *min heap*, in which the smallest key is always at the front, and the *max heap*, in which the largest key value is always at the front.\n",
    "- In this section we will implement the min heap."
   ]
  },
  {
   "cell_type": "markdown",
   "metadata": {},
   "source": []
  }
 ],
 "metadata": {
  "language_info": {
   "codemirror_mode": {
    "name": "ipython",
    "version": 3
   },
   "file_extension": ".py",
   "mimetype": "text/x-python",
   "name": "python",
   "nbconvert_exporter": "python",
   "pygments_lexer": "ipython3",
   "version": 3
  },
  "orig_nbformat": 2
 },
 "nbformat": 4,
 "nbformat_minor": 2
}