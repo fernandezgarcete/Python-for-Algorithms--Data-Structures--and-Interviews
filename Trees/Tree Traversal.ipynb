{
 "cells": [
  {
   "cell_type": "markdown",
   "metadata": {},
   "source": [
    "# Tree Traversal\n",
    "## Tree Traversal\n",
    "- There are three commonly used patterns to visit all the nodes in a tree.\n",
    "- The difference between these patterns is the order in which each node is visited (a \"traversal\").\n",
    "- The three traversals we will look at are called Preorder, Inorder and Postorder.\n",
    "## Preorder\n",
    "- In a Preorder traversal, we visit the root node first, then recursively do a preorder traversal of the left subtree, followed by a recursive preorder traversal of the subtree.\n",
    "## Inorder\n",
    "- In a Inorder traversal, we recursively do a inorder traversal of the left subtree, visit the root node, and finally do a recursive inorder traversal of the right subtree.\n",
    "## Postorder\n",
    "- In a postorder traversal, we recursively do a postorder traversal of the left subtree followed by a visit to the root node."
   ]
  },
  {
   "cell_type": "code",
   "execution_count": 2,
   "metadata": {},
   "outputs": [],
   "source": [
    "class BinaryTree(object):\n",
    "\n",
    "    def __init__(self, root):\n",
    "        self.key = root\n",
    "        self.left_child = None\n",
    "        self.right_child = None\n",
    "\n",
    "    def insert_left(self, new_node):\n",
    "        if self.left_child == None:\n",
    "            self.left_child = BinaryTree(new_node)\n",
    "        else:\n",
    "            t = BinaryTree(new_node)\n",
    "            t.left_child = self.left_child\n",
    "            self.left_child = t\n",
    "    \n",
    "    def insert_right(self, new_node):\n",
    "        if self.right_child == None:\n",
    "            self.right_child = BinaryTree(new_node)\n",
    "        else:\n",
    "            t = BinaryTree(new_node)\n",
    "            t.right_child = self.right_child\n",
    "            self.right_child = t\n",
    "\n",
    "    def get_right_child(self):\n",
    "        if self.right_child:\n",
    "            return self.right_child.get_root_val()\n",
    "\n",
    "    def get_left_child(self):\n",
    "        if self.left_child:\n",
    "            return self.left_child.get_root_val()\n",
    "\n",
    "    def set_root_val(self, obj):\n",
    "        self.key = obj\n",
    "\n",
    "    def get_root_val(self):\n",
    "        return self.key\n",
    "\n"
   ]
  },
  {
   "cell_type": "markdown",
   "metadata": {},
   "source": [
    "## Preorder\n",
    "- Implementing preorder as an external function is probably better in this case.\n",
    "- Base case is simply to check if the tree exists.\n",
    "- If the tree parameter is None, then the function returns without taking any action."
   ]
  },
  {
   "cell_type": "code",
   "execution_count": 1,
   "metadata": {},
   "outputs": [],
   "source": [
    "def preorder(tree):\n",
    "    if tree:\n",
    "        print(tree.get_root_val())\n",
    "        preorder(tree.get_left_child())\n",
    "        preorder(tree.get_right_child())\n"
   ]
  },
  {
   "cell_type": "markdown",
   "metadata": {},
   "source": [
    "## Postorder\n",
    "- The algorithm for the postorder traversal is nearly identical to preorder except that we move the call to print to the end of the function."
   ]
  },
  {
   "cell_type": "code",
   "execution_count": 3,
   "metadata": {},
   "outputs": [],
   "source": [
    "def postorder(tree):\n",
    "    if tree:\n",
    "        postorder(tree.get_left_child())\n",
    "        postorder(tree.get_right_child())\n",
    "        print(tree.get_root_val())"
   ]
  },
  {
   "cell_type": "markdown",
   "metadata": {},
   "source": [
    "## Inorder\n",
    "- In the Inorder traversal we visit the left subtree, followed by the root, and finally the right subtree.\n",
    "- Notice that in all three of the traversal functions we are simply changing the position of the print statement with respect to the two recursive functions calls."
   ]
  },
  {
   "cell_type": "code",
   "execution_count": 4,
   "metadata": {},
   "outputs": [],
   "source": [
    "def inorder(tree):\n",
    "    if tree:\n",
    "        inorder(tree.get_left_child())\n",
    "        print(tree.get_root_val())\n",
    "        inorder(tree.get_right_child())"
   ]
  },
  {
   "cell_type": "code",
   "execution_count": null,
   "metadata": {},
   "outputs": [],
   "source": []
  }
 ],
 "metadata": {
  "language_info": {
   "codemirror_mode": {
    "name": "ipython",
    "version": 3
   },
   "file_extension": ".py",
   "mimetype": "text/x-python",
   "name": "python",
   "nbconvert_exporter": "python",
   "pygments_lexer": "ipython3",
   "version": "3.7.6-final"
  },
  "orig_nbformat": 2,
  "kernelspec": {
   "name": "python3",
   "display_name": "Python 3"
  }
 },
 "nbformat": 4,
 "nbformat_minor": 2
}