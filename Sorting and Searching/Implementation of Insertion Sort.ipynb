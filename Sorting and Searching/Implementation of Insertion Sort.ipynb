{
 "cells": [
  {
   "cell_type": "markdown",
   "metadata": {},
   "source": [
    "# Implementation of Insertion Sort\n",
    "\n",
    "Insertion Sort builds the final sorted array (or list) one item at a time. It is much less efficient on large lists than more advanced algorithms such as quicksort, heapsort, or merge sort. "
   ]
  },
  {
   "cell_type": "markdown",
   "metadata": {},
   "source": [
    "# Resources for Review\n",
    "\n",
    "Check out the resources below for a review of Insertion sort!\n",
    "\n",
    "* [Wikipedia](https://en.wikipedia.org/wiki/Insertion_sort)\n",
    "* [Visual Algo](http://visualgo.net/sorting.html)\n",
    "* [Animation](http://cs.armstrong.edu/liang/animation/web/InsertionSort.html)\n",
    "* [Sorting Algorithms Animcation with Pseudocode](http://www.sorting-algorithms.com/insertion-sort)"
   ]
  },
  {
   "cell_type": "code",
   "execution_count": 15,
   "metadata": {
    "collapsed": true
   },
   "outputs": [],
   "source": [
    "def insertion_sort(arr):\n",
    "    \n",
    "    # For every index in array\n",
    "    for i in range(1, len(arr)):\n",
    "        \n",
    "        # Set current values and position\n",
    "        currentvalue = arr[i]\n",
    "        position = i\n",
    "        print('i: ', i)\n",
    "        # Sorted Sublist\n",
    "        while position > 0 and arr[position-1] > currentvalue:\n",
    "            print('inner position', position)\n",
    "            arr[position] = arr[position-1]\n",
    "            position -= 1\n",
    "\n",
    "        arr[position] = currentvalue"
   ]
  },
  {
   "cell_type": "code",
   "execution_count": 16,
   "metadata": {
    "tags": []
   },
   "outputs": [
    {
     "output_type": "stream",
     "name": "stdout",
     "text": "i:  1\ni:  2\ninner position 2\ni:  3\ni:  4\ni:  5\ninner position 5\ninner position 4\ninner position 3\ninner position 2\ninner position 1\ni:  6\ninner position 6\ninner position 5\ninner position 4\ninner position 3\ninner position 2\ni:  7\ni:  8\ni:  9\ninner position 9\n"
    },
    {
     "output_type": "execute_result",
     "data": {
      "text/plain": "[1, 2, 3, 4, 5, 6, 8, 12, 25, 41]"
     },
     "metadata": {},
     "execution_count": 16
    }
   ],
   "source": [
    "arr =[3,5,4,6,8,1,2,12,41,25]\n",
    "insertion_sort(arr)\n",
    "arr"
   ]
  },
  {
   "cell_type": "markdown",
   "metadata": {},
   "source": [
    "# Good Job!"
   ]
  },
  {
   "cell_type": "code",
   "execution_count": 12,
   "metadata": {},
   "outputs": [],
   "source": [
    "def insertion_sort(arr):\n",
    "\n",
    "    for i in range(1, len(arr)):\n",
    "\n",
    "        curr_val = arr[i]\n",
    "        idx = i\n",
    "\n",
    "        while idx > 0 and arr[idx-1] > curr_val:\n",
    "            arr[idx] = arr[idx-1]\n",
    "            idx -= 1\n",
    "\n",
    "        arr[idx] = curr_val\n"
   ]
  },
  {
   "cell_type": "code",
   "execution_count": 13,
   "metadata": {},
   "outputs": [
    {
     "output_type": "execute_result",
     "data": {
      "text/plain": "[1, 2, 3, 4, 5, 6, 8, 12, 25, 41]"
     },
     "metadata": {},
     "execution_count": 13
    }
   ],
   "source": [
    "arr = [3,5,4,6,8,1,2,12,41,25]\n",
    "insertion_sort(arr)\n",
    "arr"
   ]
  },
  {
   "cell_type": "code",
   "execution_count": null,
   "metadata": {},
   "outputs": [],
   "source": []
  }
 ],
 "metadata": {
  "kernelspec": {
   "display_name": "Python 3",
   "language": "python",
   "name": "python3"
  },
  "language_info": {
   "codemirror_mode": {
    "name": "ipython",
    "version": 3
   },
   "file_extension": ".py",
   "mimetype": "text/x-python",
   "name": "python",
   "nbconvert_exporter": "python",
   "pygments_lexer": "ipython3",
   "version": "3.7.6-final"
  }
 },
 "nbformat": 4,
 "nbformat_minor": 1
}