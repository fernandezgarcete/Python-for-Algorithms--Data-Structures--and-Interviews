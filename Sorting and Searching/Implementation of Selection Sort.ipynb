{
 "cells": [
  {
   "cell_type": "markdown",
   "metadata": {},
   "source": [
    "# Implementation of Selection Sort\n",
    "\n",
    "The selection sort improves on the bubble sort by making only one exchange for every pass through the list. In order to do this, a selection sort looks for the largest value as it makes a pass and, after completing the pass, places it in the proper location. As with a bubble sort, after the first pass, the largest item is in the correct place. After the second pass, the next largest is in place. This process continues and requires n−1 passes to sort n items, since the final item must be in place after the (n−1) st pass."
   ]
  },
  {
   "cell_type": "markdown",
   "metadata": {},
   "source": [
    "# Resources for Review\n",
    "\n",
    "Check out the resources below for a review of Selection sort!\n",
    "\n",
    "* [Wikipedia](https://en.wikipedia.org/wiki/Selection_sort)\n",
    "* [Visual Algo](http://visualgo.net/sorting.html)\n",
    "* [Animation](http://cs.armstrong.edu/liang/animation/web/SelectionSort.html)\n",
    "* [Sorting Algorithms Animcation with Pseudocode](http://www.sorting-algorithms.com/selection-sort)"
   ]
  },
  {
   "cell_type": "code",
   "execution_count": 7,
   "metadata": {
    "collapsed": true
   },
   "outputs": [],
   "source": [
    "def selection_sort(arr):\n",
    "    \n",
    "    # For every slot in array\n",
    "    for fillslot in range(len(arr)-1, 0, -1):\n",
    "        positionOfMax = 0\n",
    "        print('fillslot', fillslot)\n",
    "        # For every set of 0 to fillslot+1\n",
    "        for location in range(1, fillslot+1):\n",
    "            # Set maximum's location\n",
    "            print('inner location', location)\n",
    "            if arr[location] > arr[positionOfMax]:\n",
    "                positionOfMax = location\n",
    "\n",
    "        temp = arr[fillslot]\n",
    "        arr[fillslot] = arr[positionOfMax]\n",
    "        arr[positionOfMax] = temp\n"
   ]
  },
  {
   "cell_type": "code",
   "execution_count": 8,
   "metadata": {
    "collapsed": false,
    "tags": []
   },
   "outputs": [
    {
     "output_type": "stream",
     "name": "stdout",
     "text": "fillslot 8\ninner location 1\ninner location 2\ninner location 3\ninner location 4\ninner location 5\ninner location 6\ninner location 7\ninner location 8\nfillslot 7\ninner location 1\ninner location 2\ninner location 3\ninner location 4\ninner location 5\ninner location 6\ninner location 7\nfillslot 6\ninner location 1\ninner location 2\ninner location 3\ninner location 4\ninner location 5\ninner location 6\nfillslot 5\ninner location 1\ninner location 2\ninner location 3\ninner location 4\ninner location 5\nfillslot 4\ninner location 1\ninner location 2\ninner location 3\ninner location 4\nfillslot 3\ninner location 1\ninner location 2\ninner location 3\nfillslot 2\ninner location 1\ninner location 2\nfillslot 1\ninner location 1\n"
    },
    {
     "output_type": "execute_result",
     "data": {
      "text/plain": "[2, 3, 5, 6, 7, 8, 12, 21, 40]"
     },
     "metadata": {},
     "execution_count": 8
    }
   ],
   "source": [
    "arr = [3,5,2,7,6,8,12,40,21]\n",
    "selection_sort(arr)\n",
    "arr"
   ]
  },
  {
   "cell_type": "markdown",
   "metadata": {},
   "source": [
    "# Good Job!"
   ]
  },
  {
   "cell_type": "code",
   "execution_count": 7,
   "metadata": {},
   "outputs": [],
   "source": [
    "def selection_sort(arr):\n",
    "    for i in range(len(arr)-1, 0, -1):\n",
    "        max_idx = 0\n",
    "        for j in range(1, i+1):\n",
    "            if arr[j] > arr[max_idx]:\n",
    "                max_idx = i\n",
    "\n",
    "        tmp = arr[i]\n",
    "        arr[i] = arr[max_idx]\n",
    "        arr[max_idx] = tmp\n"
   ]
  },
  {
   "cell_type": "code",
   "execution_count": 8,
   "metadata": {},
   "outputs": [
    {
     "output_type": "execute_result",
     "data": {
      "text/plain": "[3, 5, 2, 7, 6, 8, 12, 40, 21]"
     },
     "metadata": {},
     "execution_count": 8
    }
   ],
   "source": [
    "arr = [3,5,2,7,6,8,12,40,21]\n",
    "selection_sort(arr)\n",
    "arr"
   ]
  },
  {
   "cell_type": "code",
   "execution_count": null,
   "metadata": {},
   "outputs": [],
   "source": []
  }
 ],
 "metadata": {
  "kernelspec": {
   "display_name": "Python 3",
   "language": "python",
   "name": "python3"
  },
  "language_info": {
   "codemirror_mode": {
    "name": "ipython",
    "version": 2
   },
   "file_extension": ".py",
   "mimetype": "text/x-python",
   "name": "python",
   "nbconvert_exporter": "python",
   "pygments_lexer": "ipython2",
   "version": "3.7.6-final"
  }
 },
 "nbformat": 4,
 "nbformat_minor": 0
}