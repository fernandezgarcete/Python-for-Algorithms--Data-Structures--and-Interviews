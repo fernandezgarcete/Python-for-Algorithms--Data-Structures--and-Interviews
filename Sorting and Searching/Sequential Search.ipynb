{
 "cells": [
  {
   "cell_type": "markdown",
   "metadata": {},
   "source": [
    "# Sequential Search\n",
    "\n",
    "Check out the video lecture for a full breakdown, in this Notebook all we do is implement Sequential Search for an Unordered List and an Ordered List."
   ]
  },
  {
   "cell_type": "markdown",
   "metadata": {},
   "source": [
    "____\n",
    "## Sequential Search"
   ]
  },
  {
   "cell_type": "code",
   "execution_count": 1,
   "metadata": {
    "collapsed": true
   },
   "outputs": [],
   "source": [
    "def seq_search(arr,ele):\n",
    "    \"\"\"\n",
    "    General Sequential Search. Works on Unordered lists.\n",
    "    \"\"\"\n",
    "    \n",
    "    # Start at position 0\n",
    "    pos = 0\n",
    "    # Target becomes true if ele is in the list\n",
    "    found = False\n",
    "    \n",
    "    # go until end of list\n",
    "    while pos < len(arr) and not found:\n",
    "        \n",
    "        # If match\n",
    "        if arr[pos] == ele:\n",
    "            found = True\n",
    "            \n",
    "        # Else move one down\n",
    "        else:\n",
    "            pos  = pos+1\n",
    "    \n",
    "    return found"
   ]
  },
  {
   "cell_type": "code",
   "execution_count": 2,
   "metadata": {
    "collapsed": true
   },
   "outputs": [],
   "source": [
    "arr = [1,9,2,8,3,4,7,5,6]"
   ]
  },
  {
   "cell_type": "code",
   "execution_count": 3,
   "metadata": {
    "collapsed": false,
    "tags": []
   },
   "outputs": [
    {
     "output_type": "stream",
     "name": "stdout",
     "text": "True\n"
    }
   ],
   "source": [
    "print(seq_search(arr,1))"
   ]
  },
  {
   "cell_type": "code",
   "execution_count": 4,
   "metadata": {
    "collapsed": false,
    "tags": []
   },
   "outputs": [
    {
     "output_type": "stream",
     "name": "stdout",
     "text": "False\n"
    }
   ],
   "source": [
    "print(seq_search(arr,10))"
   ]
  },
  {
   "cell_type": "markdown",
   "metadata": {},
   "source": [
    "## Ordered List\n",
    "\n",
    "If we know the list is ordered than, we only have to check until we have found the element or an element greater than it."
   ]
  },
  {
   "cell_type": "code",
   "execution_count": 5,
   "metadata": {
    "collapsed": true
   },
   "outputs": [],
   "source": [
    "def ordered_seq_search(arr,ele):\n",
    "    \"\"\"\n",
    "    Sequential search for an Ordered list\n",
    "    \"\"\"\n",
    "    # Start at position 0\n",
    "    pos = 0\n",
    "    \n",
    "    # Target becomes true if ele is in the list\n",
    "    found = False\n",
    "    \n",
    "    # Stop marker\n",
    "    stopped = False\n",
    "    \n",
    "    # go until end of list\n",
    "    while pos < len(arr) and not found and not stopped:\n",
    "        \n",
    "        # If match\n",
    "        if arr[pos] == ele:\n",
    "            found = True\n",
    "            \n",
    "        else:\n",
    "            \n",
    "            # Check if element is greater\n",
    "            if arr[pos] > ele:\n",
    "                stopped = True\n",
    "                \n",
    "            # Otherwise move on\n",
    "            else:\n",
    "                pos  = pos+1\n",
    "    \n",
    "    return found"
   ]
  },
  {
   "cell_type": "code",
   "execution_count": 6,
   "metadata": {
    "collapsed": false
   },
   "outputs": [],
   "source": [
    "arr.sort() "
   ]
  },
  {
   "cell_type": "code",
   "execution_count": 7,
   "metadata": {
    "collapsed": false
   },
   "outputs": [
    {
     "output_type": "execute_result",
     "data": {
      "text/plain": "True"
     },
     "metadata": {},
     "execution_count": 7
    }
   ],
   "source": [
    "ordered_seq_search(arr,3)"
   ]
  },
  {
   "cell_type": "code",
   "execution_count": 8,
   "metadata": {
    "collapsed": false
   },
   "outputs": [
    {
     "output_type": "execute_result",
     "data": {
      "text/plain": "False"
     },
     "metadata": {},
     "execution_count": 8
    }
   ],
   "source": [
    "ordered_seq_search(arr,1.5)"
   ]
  },
  {
   "cell_type": "markdown",
   "metadata": {},
   "source": [
    "# Good Job!"
   ]
  },
  {
   "cell_type": "code",
   "execution_count": null,
   "metadata": {},
   "outputs": [],
   "source": []
  }
 ],
 "metadata": {
  "kernelspec": {
   "display_name": "Python 3",
   "language": "python",
   "name": "python3"
  },
  "language_info": {
   "codemirror_mode": {
    "name": "ipython",
    "version": 2
   },
   "file_extension": ".py",
   "mimetype": "text/x-python",
   "name": "python",
   "nbconvert_exporter": "python",
   "pygments_lexer": "ipython2",
   "version": "3.7.6-final"
  }
 },
 "nbformat": 4,
 "nbformat_minor": 0
}