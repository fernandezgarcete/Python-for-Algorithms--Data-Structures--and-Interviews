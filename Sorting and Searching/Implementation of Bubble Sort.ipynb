{
 "cells": [
  {
   "cell_type": "markdown",
   "metadata": {},
   "source": [
    "# Implementation of a Bubble Sort\n",
    "\n",
    "The bubble sort makes multiple passes through a list. It compares adjacent items and exchanges those that are out of order. Each pass through the list places the next largest value in its proper place. In essence, each item “bubbles” up to the location where it belongs."
   ]
  },
  {
   "cell_type": "markdown",
   "metadata": {},
   "source": [
    "# Resources for Review\n",
    "\n",
    "Check out the resources below for a review of Bubble sort!\n",
    "\n",
    "* [Wikipedia](https://en.wikipedia.org/wiki/Bubble_sort)\n",
    "* [Visual Algo](http://visualgo.net/sorting.html)\n",
    "* [Animation](http://www.cs.armstrong.edu/liang/animation/web/BubbleSort.html)\n",
    "* [Sorting Algorithms Animcation with Pseudocode](http://www.sorting-algorithms.com/bubble-sort)"
   ]
  },
  {
   "cell_type": "code",
   "execution_count": 6,
   "metadata": {
    "collapsed": true
   },
   "outputs": [],
   "source": [
    "def bubble_sort(arr):\n",
    "    # For every element (arranged backwards)\n",
    "    for n in range(len(arr)-1, 0, -1):\n",
    "        #\n",
    "        print('n', n)\n",
    "        for k in range(n):\n",
    "            print('inner k', k)\n",
    "            # If we come to a point to switch\n",
    "            if arr[k] > arr[k+1]:\n",
    "                temp = arr[k]\n",
    "                arr[k] = arr[k+1]\n",
    "                arr[k+1] = temp"
   ]
  },
  {
   "cell_type": "code",
   "execution_count": 8,
   "metadata": {
    "tags": []
   },
   "outputs": [
    {
     "output_type": "stream",
     "name": "stdout",
     "text": "n 9\ninner k 0\ninner k 1\ninner k 2\ninner k 3\ninner k 4\ninner k 5\ninner k 6\ninner k 7\ninner k 8\nn 8\ninner k 0\ninner k 1\ninner k 2\ninner k 3\ninner k 4\ninner k 5\ninner k 6\ninner k 7\nn 7\ninner k 0\ninner k 1\ninner k 2\ninner k 3\ninner k 4\ninner k 5\ninner k 6\nn 6\ninner k 0\ninner k 1\ninner k 2\ninner k 3\ninner k 4\ninner k 5\nn 5\ninner k 0\ninner k 1\ninner k 2\ninner k 3\ninner k 4\nn 4\ninner k 0\ninner k 1\ninner k 2\ninner k 3\nn 3\ninner k 0\ninner k 1\ninner k 2\nn 2\ninner k 0\ninner k 1\nn 1\ninner k 0\n"
    }
   ],
   "source": [
    "arr = [3,2,13,4,6,5,7,8,20,1]\n",
    "bubble_sort(arr)"
   ]
  },
  {
   "cell_type": "code",
   "execution_count": 3,
   "metadata": {},
   "outputs": [
    {
     "output_type": "execute_result",
     "data": {
      "text/plain": "[1, 2, 3, 4, 5, 6, 7, 8, 13, 20]"
     },
     "metadata": {},
     "execution_count": 3
    }
   ],
   "source": [
    "arr"
   ]
  },
  {
   "cell_type": "markdown",
   "metadata": {},
   "source": [
    "# Great Job!"
   ]
  },
  {
   "cell_type": "code",
   "execution_count": 1,
   "metadata": {},
   "outputs": [],
   "source": [
    "def bubble_sort(arr):\n",
    "    for n in range(len(arr)-1, 0, -1):\n",
    "        for i in range(n):\n",
    "            if arr[i] > arr[i+1]:\n",
    "                tmp = arr[i+1]\n",
    "                arr[i+1] = arr[i]\n",
    "                arr[i] = tmp"
   ]
  },
  {
   "cell_type": "code",
   "execution_count": 2,
   "metadata": {},
   "outputs": [
    {
     "output_type": "execute_result",
     "data": {
      "text/plain": "[1, 2, 3, 4, 5, 6, 7, 8, 13, 20]"
     },
     "metadata": {},
     "execution_count": 2
    }
   ],
   "source": [
    "arr = [3,2,13,4,6,5,7,8,20,1]\n",
    "bubble_sort(arr)\n",
    "arr"
   ]
  },
  {
   "cell_type": "code",
   "execution_count": null,
   "metadata": {},
   "outputs": [],
   "source": []
  }
 ],
 "metadata": {
  "kernelspec": {
   "display_name": "Python 3",
   "language": "python",
   "name": "python3"
  },
  "language_info": {
   "codemirror_mode": {
    "name": "ipython",
    "version": 3
   },
   "file_extension": ".py",
   "mimetype": "text/x-python",
   "name": "python",
   "nbconvert_exporter": "python",
   "pygments_lexer": "ipython3",
   "version": "3.7.6-final"
  }
 },
 "nbformat": 4,
 "nbformat_minor": 1
}