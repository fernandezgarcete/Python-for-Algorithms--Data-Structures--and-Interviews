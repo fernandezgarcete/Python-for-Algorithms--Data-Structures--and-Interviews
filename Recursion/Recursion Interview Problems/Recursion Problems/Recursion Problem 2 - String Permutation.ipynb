{
 "cells": [
  {
   "cell_type": "markdown",
   "metadata": {
    "collapsed": true
   },
   "source": [
    "# String Permutation\n",
    "\n",
    "## Problem Statement\n",
    "\n",
    "Given a string, write a function that uses recursion to output a list of all the possible permutations of that string.\n",
    "\n",
    "For example, given s='abc' the function should return ['abc', 'acb', 'bac', 'bca', 'cab', 'cba']\n",
    "\n",
    "*Note: If a character is repeated, treat each occurence as distinct, for example an input of 'xxx' would return a list with 6 \"versions\" of 'xxx'*\n",
    "\n",
    "\n",
    "## Fill Out Your Solution Below\n",
    "\n",
    "Let's think about what the steps we need to take here are:"
   ]
  },
  {
   "cell_type": "code",
   "execution_count": 7,
   "metadata": {
    "collapsed": true
   },
   "outputs": [],
   "source": [
    "def permute(s):\n",
    "    \n",
    "    out = []\n",
    "\n",
    "    # base case\n",
    "    if len(s) == 1:\n",
    "        out = [s]\n",
    "    \n",
    "    else:\n",
    "        for i, let in enumerate(s):\n",
    "            for perm in permute(s[:i] + s[i+1:]):\n",
    "                \n",
    "                out += [let + perm]\n",
    "\n",
    "    return out\n",
    "    "
   ]
  },
  {
   "cell_type": "code",
   "execution_count": 8,
   "metadata": {
    "collapsed": false
   },
   "outputs": [
    {
     "output_type": "stream",
     "name": "stdout",
     "text": "let is b - perm is c\nlet is c - perm is b\nlet is a - perm is bc\nlet is a - perm is cb\nlet is a - perm is c\nlet is c - perm is a\nlet is b - perm is ac\nlet is b - perm is ca\nlet is a - perm is b\nlet is b - perm is a\nlet is c - perm is ab\nlet is c - perm is ba\n"
    },
    {
     "output_type": "execute_result",
     "data": {
      "text/plain": "['abc', 'acb', 'bac', 'bca', 'cab', 'cba']"
     },
     "metadata": {},
     "execution_count": 8
    }
   ],
   "source": [
    "permute('abc')"
   ]
  },
  {
   "cell_type": "markdown",
   "metadata": {},
   "source": [
    "____\n",
    "# Test Your Solution"
   ]
  },
  {
   "cell_type": "code",
   "execution_count": 9,
   "metadata": {
    "collapsed": false
   },
   "outputs": [
    {
     "output_type": "stream",
     "name": "stdout",
     "text": "let is b - perm is c\nlet is c - perm is b\nlet is a - perm is bc\nlet is a - perm is cb\nlet is a - perm is c\nlet is c - perm is a\nlet is b - perm is ac\nlet is b - perm is ca\nlet is a - perm is b\nlet is b - perm is a\nlet is c - perm is ab\nlet is c - perm is ba\nlet is o - perm is g\nlet is g - perm is o\nlet is d - perm is og\nlet is d - perm is go\nlet is d - perm is g\nlet is g - perm is d\nlet is o - perm is dg\nlet is o - perm is gd\nlet is d - perm is o\nlet is o - perm is d\nlet is g - perm is do\nlet is g - perm is od\nAll test cases passed.\n"
    }
   ],
   "source": [
    "\"\"\"\n",
    "RUN THIS CELL TO TEST YOUR SOLUTION.\n",
    "\"\"\"\n",
    "\n",
    "from nose.tools import assert_equal\n",
    "\n",
    "class TestPerm(object):\n",
    "    \n",
    "    def test(self, solution):\n",
    "        \n",
    "        assert_equal(sorted(solution('abc')),sorted(['abc', 'acb', 'bac', 'bca', 'cab', 'cba']))\n",
    "        assert_equal(sorted(solution('dog')),sorted(['dog', 'dgo', 'odg', 'ogd', 'gdo', 'god']) )\n",
    "        \n",
    "        print('All test cases passed.')\n",
    "        \n",
    "\n",
    "\n",
    "# Run Tests\n",
    "t = TestPerm()\n",
    "t.test(permute)"
   ]
  },
  {
   "cell_type": "markdown",
   "metadata": {},
   "source": [
    "## Good Luck!"
   ]
  }
 ],
 "metadata": {
  "kernelspec": {
   "display_name": "Python 3",
   "language": "python",
   "name": "python3"
  },
  "language_info": {
   "codemirror_mode": {
    "name": "ipython",
    "version": 2
   },
   "file_extension": ".py",
   "mimetype": "text/x-python",
   "name": "python",
   "nbconvert_exporter": "python",
   "pygments_lexer": "ipython2",
   "version": "3.7.6-final"
  }
 },
 "nbformat": 4,
 "nbformat_minor": 0
}