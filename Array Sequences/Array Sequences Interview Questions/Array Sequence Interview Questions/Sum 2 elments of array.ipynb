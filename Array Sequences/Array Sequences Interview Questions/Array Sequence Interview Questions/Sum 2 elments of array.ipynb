{
 "cells": [
  {
   "cell_type": "markdown",
   "metadata": {},
   "source": [
    "# Statement\n",
    "Given 2 arrays with the same amount of elements, return the pairs of all posible combination that sums a given number. Using O(n).\n",
    "\n",
    "# Example\n",
    "\n",
    "arr1 = \\[-1, 3, 4, 2, 3, 5, 1\\]\n",
    "\n",
    "arr2 = \\[8, 4, 3, 1, -1, 5, 6\\]\n",
    "\n",
    "n = 7\n",
    "\n",
    "posible outputs = (-1, 8), (2, 5), (6, 1) ..."
   ]
  },
  {
   "cell_type": "code",
   "execution_count": 11,
   "metadata": {},
   "outputs": [],
   "source": [
    "def pairs_o_n2(arr1, arr2, n):\n",
    "    # not the best approach, solves in O(n^2)\n",
    "    for a in arr1:\n",
    "        for b in arr2:\n",
    "            if (a + b) == n:\n",
    "                print(a, '+', b, '=', n)\n",
    "\n",
    "\n",
    "def pairs(arr1, arr2, n):\n",
    "    d = {}\n",
    "\n",
    "    for i, value in enumerate(arr1):\n",
    "        d[value] = i\n",
    "\n",
    "    # Falta usar el dict, NO ESTA COMPLETO\n",
    "    for i in range(len(arr1)):\n",
    "        if arr1[i] + arr2[i] == n:\n",
    "            print(arr1[i], arr2[i])"
   ]
  },
  {
   "cell_type": "code",
   "execution_count": 13,
   "metadata": {},
   "outputs": [
    {
     "output_type": "stream",
     "name": "stdout",
     "text": "-1 + 8 = 7\n3 + 4 = 7\n4 + 3 = 7\n2 + 5 = 7\n3 + 4 = 7\n1 + 6 = 7\n-1 8\n3 4\n4 3\n1 6\n"
    }
   ],
   "source": [
    "arr1 = [-1, 3, 4, 2, 3, 5, 1]\n",
    "arr2 = [8, 4, 3, 1, -1, 5, 6]\n",
    "n = 7\n",
    "pairs_o_n2(arr1, arr2, n)\n",
    "pairs(arr1, arr2, n)"
   ]
  },
  {
   "cell_type": "code",
   "execution_count": 5,
   "metadata": {},
   "outputs": [
    {
     "output_type": "stream",
     "name": "stdout",
     "text": "0\n1\n2\n3\n4\n5\n6\n"
    }
   ],
   "source": [
    "d = {}\n",
    "for i in range(len(arr1)):\n",
    "\n",
    "    print(d)\n",
    "\n"
   ]
  },
  {
   "cell_type": "code",
   "execution_count": null,
   "metadata": {},
   "outputs": [],
   "source": []
  }
 ],
 "metadata": {
  "language_info": {
   "codemirror_mode": {
    "name": "ipython",
    "version": 3
   },
   "file_extension": ".py",
   "mimetype": "text/x-python",
   "name": "python",
   "nbconvert_exporter": "python",
   "pygments_lexer": "ipython3",
   "version": "3.7.6-final"
  },
  "orig_nbformat": 2,
  "kernelspec": {
   "name": "python3",
   "display_name": "Python 3"
  }
 },
 "nbformat": 4,
 "nbformat_minor": 2
}